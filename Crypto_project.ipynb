{
  "nbformat": 4,
  "nbformat_minor": 0,
  "metadata": {
    "colab": {
      "provenance": []
    },
    "kernelspec": {
      "name": "python3",
      "display_name": "Python 3"
    },
    "language_info": {
      "name": "python"
    }
  },
  "cells": [
    {
      "cell_type": "markdown",
      "source": [
        "# Data Encryption\n",
        "\n",
        "1. Input a string\n",
        "\n",
        "2. Convert that string into a QR Code\n",
        "\n",
        "3. QR Code is further encrypted in a random image\n",
        "\n",
        "4. QR Code will be then de-crypted from the generated image\n",
        "\n",
        "5. Output displayed."
      ],
      "metadata": {
        "id": "0vqUkF-p202B"
      }
    },
    {
      "cell_type": "code",
      "source": [
        "pip install qrcode\n"
      ],
      "metadata": {
        "colab": {
          "base_uri": "https://localhost:8080/"
        },
        "id": "51Eb3FqcV5WA",
        "outputId": "5e1e3c2c-1e62-417c-b0c0-f4b95db691ef"
      },
      "execution_count": null,
      "outputs": [
        {
          "output_type": "stream",
          "name": "stdout",
          "text": [
            "Looking in indexes: https://pypi.org/simple, https://us-python.pkg.dev/colab-wheels/public/simple/\n",
            "Collecting qrcode\n",
            "  Downloading qrcode-7.3.1.tar.gz (43 kB)\n",
            "\u001b[K     |████████████████████████████████| 43 kB 1.4 MB/s \n",
            "\u001b[?25hBuilding wheels for collected packages: qrcode\n",
            "  Building wheel for qrcode (setup.py) ... \u001b[?25l\u001b[?25hdone\n",
            "  Created wheel for qrcode: filename=qrcode-7.3.1-py3-none-any.whl size=40400 sha256=5a0ccc5befa346eecbc005f3b14b28796650e2f1839213ade0731ee1d798d50b\n",
            "  Stored in directory: /root/.cache/pip/wheels/35/fd/04/2768886c56207acee0d6dc6b9bd5d06dac63a810f0c0a42516\n",
            "Successfully built qrcode\n",
            "Installing collected packages: qrcode\n",
            "Successfully installed qrcode-7.3.1\n"
          ]
        }
      ]
    },
    {
      "cell_type": "code",
      "source": [
        "import qrcode\n",
        "import cv2\n",
        "import numpy as np\n",
        "from PIL import Image\n",
        "from scipy import ndimage"
      ],
      "metadata": {
        "id": "iw1ZHPbb5aUQ"
      },
      "execution_count": null,
      "outputs": []
    },
    {
      "cell_type": "markdown",
      "source": [
        "## Encryption"
      ],
      "metadata": {
        "id": "P5uhxd9B7y9o"
      }
    },
    {
      "cell_type": "code",
      "execution_count": null,
      "metadata": {
        "id": "H1uPVOtT2tw2"
      },
      "outputs": [],
      "source": [
        "message=input()\n",
        "img = qrcode.make(message)\n",
        "img.save(\"QR_Code.png\")"
      ]
    },
    {
      "cell_type": "code",
      "source": [
        "img=cv2.imread('QR_Code.png')\n",
        "blur = cv2.GaussianBlur(img,(27,47),0)"
      ],
      "metadata": {
        "id": "gx5zryRo4-ms"
      },
      "execution_count": null,
      "outputs": []
    },
    {
      "cell_type": "code",
      "source": [
        "cv2.imwrite('blurred.jpg', blur)"
      ],
      "metadata": {
        "id": "i4emjibD5qG7"
      },
      "execution_count": null,
      "outputs": []
    },
    {
      "cell_type": "code",
      "source": [
        "img = Image.open(\"blurred.jpg\")\n",
        "\n",
        "# Create an array of the image\n",
        "arr = np.array(img)\n",
        "\n",
        "# Apply a distortion effect\n",
        "distorted_arr = arr + 90 * np.random.rand(arr.shape[0], arr.shape[1], arr.shape[2])\n",
        "distorted_arr = np.clip(distorted_arr, 0, 895)\n",
        "\n",
        "# Create a new image from the distorted array\n",
        "distorted_img = Image.fromarray(distorted_arr.astype('uint8'))\n",
        "\n",
        "# Save the distorted image\n",
        "distorted_img.save(\"distorted_image.jpg\")"
      ],
      "metadata": {
        "id": "EGPJE8U66EaM"
      },
      "execution_count": null,
      "outputs": []
    }
  ]
}